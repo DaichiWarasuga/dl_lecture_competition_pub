{
 "cells": [
  {
   "cell_type": "markdown",
   "metadata": {},
   "source": [
    "# memo\n",
    "\n",
    "1. クラス数を40700から41000に増やした\n",
    "2. 入力を埋め込みattentionレイヤーに通すようにした"
   ]
  },
  {
   "cell_type": "code",
   "execution_count": 4,
   "metadata": {},
   "outputs": [],
   "source": [
    "from src.datasets import VQADataset\n",
    "from torchvision import transforms\n",
    "from pathlib import Path\n",
    "import pandas as pd\n",
    "from src.preprocs import process_text"
   ]
  },
  {
   "cell_type": "code",
   "execution_count": 12,
   "metadata": {},
   "outputs": [],
   "source": [
    "transform = transforms.Compose([\n",
    "        transforms.Resize((224, 224)),\n",
    "        transforms.ToTensor()\n",
    "    ])\n",
    "train_dir = Path(\"/data/daichi/VQA\")\n",
    "train_dataloader = VQADataset(df_path=train_dir/\"train.json\", image_dir=train_dir/\"train\", transform=transform)\n",
    "\n",
    "# for i in range(2):\n",
    "qdata = train_dataloader[0][1]\n"
   ]
  },
  {
   "cell_type": "code",
   "execution_count": 13,
   "metadata": {},
   "outputs": [
    {
     "name": "stdout",
     "output_type": "stream",
     "text": [
      "torch.Size([3909])\n"
     ]
    }
   ],
   "source": [
    "print(qdata.shape)\n"
   ]
  },
  {
   "cell_type": "code",
   "execution_count": 14,
   "metadata": {},
   "outputs": [
    {
     "data": {
      "text/plain": [
       "tensor([0., 1., 0.,  ..., 0., 0., 1.])"
      ]
     },
     "execution_count": 14,
     "metadata": {},
     "output_type": "execute_result"
    }
   ],
   "source": [
    "qdata"
   ]
  },
  {
   "cell_type": "code",
   "execution_count": 8,
   "metadata": {},
   "outputs": [
    {
     "name": "stdout",
     "output_type": "stream",
     "text": [
      "47\n"
     ]
    }
   ],
   "source": [
    "train_dir = Path(\"/data/daichi/VQA\")\n",
    "df_path = train_dir/\"valid.json\"\n",
    "df = pd.read_json(df_path)\n",
    "\n",
    "question2idx = {}\n",
    "idx2question = {}\n",
    "max_length = 0\n",
    "# 質問文に含まれる単語を辞書に追加\n",
    "for question in df[\"question\"]:\n",
    "    question = process_text(question)\n",
    "    words = question.split(\" \")\n",
    "    if len(words) > max_length:\n",
    "        max_length = len(words)\n",
    "    for word in words:\n",
    "        if word not in question2idx:\n",
    "            question2idx[word] = len(question2idx)\n",
    "idx2question = {v: k for k, v in question2idx.items()}  # 逆変換用の辞書(question)\n",
    "\n",
    "print(max_length)"
   ]
  },
  {
   "cell_type": "code",
   "execution_count": 3,
   "metadata": {},
   "outputs": [
    {
     "name": "stdout",
     "output_type": "stream",
     "text": [
      "現在時刻: 2024-07-10/14-59-53\n"
     ]
    }
   ],
   "source": [
    "import datetime\n",
    "\n",
    "# 現在時刻を取得\n",
    "current_time = datetime.datetime.now()\n",
    "a = \"/\".join(current_time.strftime(\"%Y-%m-%d %H-%M-%S\").split(\" \"))\n",
    "# フォーマットして出力\n",
    "print(\"現在時刻:\", a)\n"
   ]
  },
  {
   "cell_type": "code",
   "execution_count": 2,
   "metadata": {},
   "outputs": [
    {
     "ename": "TypeError",
     "evalue": "'module' object is not callable",
     "output_type": "error",
     "traceback": [
      "\u001b[0;31m---------------------------------------------------------------------------\u001b[0m",
      "\u001b[0;31mTypeError\u001b[0m                                 Traceback (most recent call last)",
      "Input \u001b[0;32mIn [2]\u001b[0m, in \u001b[0;36m<cell line: 15>\u001b[0;34m()\u001b[0m\n\u001b[1;32m     12\u001b[0m     plt\u001b[38;5;241m.\u001b[39msavefig(save_path)\n\u001b[1;32m     13\u001b[0m     plt\u001b[38;5;241m.\u001b[39mclose()\n\u001b[0;32m---> 15\u001b[0m \u001b[43msave_learning_curve\u001b[49m\u001b[43m(\u001b[49m\u001b[43m[\u001b[49m\u001b[38;5;241;43m1\u001b[39;49m\u001b[43m,\u001b[49m\u001b[43m \u001b[49m\u001b[38;5;241;43m2\u001b[39;49m\u001b[43m,\u001b[49m\u001b[43m \u001b[49m\u001b[38;5;241;43m3\u001b[39;49m\u001b[43m,\u001b[49m\u001b[43m \u001b[49m\u001b[38;5;241;43m4\u001b[39;49m\u001b[43m,\u001b[49m\u001b[43m \u001b[49m\u001b[38;5;241;43m5\u001b[39;49m\u001b[43m]\u001b[49m\u001b[43m,\u001b[49m\u001b[43m \u001b[49m\u001b[38;5;124;43m\"\u001b[39;49m\u001b[38;5;124;43mtest.png\u001b[39;49m\u001b[38;5;124;43m\"\u001b[39;49m\u001b[43m)\u001b[49m\n",
      "Input \u001b[0;32mIn [2]\u001b[0m, in \u001b[0;36msave_learning_curve\u001b[0;34m(train_losses, save_path)\u001b[0m\n\u001b[1;32m      3\u001b[0m \u001b[38;5;28;01mdef\u001b[39;00m \u001b[38;5;21msave_learning_curve\u001b[39m(train_losses, save_path):\n\u001b[0;32m----> 4\u001b[0m     \u001b[43mplt\u001b[49m\u001b[38;5;241;43m.\u001b[39;49m\u001b[43mfigure\u001b[49m\u001b[43m(\u001b[49m\u001b[43m)\u001b[49m\n\u001b[1;32m      5\u001b[0m     plt\u001b[38;5;241m.\u001b[39mplot(train_losses, label\u001b[38;5;241m=\u001b[39m\u001b[38;5;124m'\u001b[39m\u001b[38;5;124mTraining Loss\u001b[39m\u001b[38;5;124m'\u001b[39m)\n\u001b[1;32m      6\u001b[0m     \u001b[38;5;66;03m# plt.plot(val_losses, label='Validation Loss')\u001b[39;00m\n",
      "\u001b[0;31mTypeError\u001b[0m: 'module' object is not callable"
     ]
    }
   ],
   "source": [
    "import matplotlib as plt\n",
    "\n",
    "def save_learning_curve(train_losses, save_path):\n",
    "    plt.figure()\n",
    "    plt.plot(train_losses, label='Training Loss')\n",
    "    # plt.plot(val_losses, label='Validation Loss')\n",
    "    plt.xlabel('Epochs')\n",
    "    plt.xlim(left=0)\n",
    "    plt.ylabel('Loss')\n",
    "    plt.legend()\n",
    "    plt.title('Learning Curve')\n",
    "    plt.savefig(save_path)\n",
    "    plt.close()\n",
    "\n",
    "save_learning_curve([1, 2, 3, 4, 5], \"test.png\")"
   ]
  },
  {
   "cell_type": "code",
   "execution_count": 3,
   "metadata": {},
   "outputs": [
    {
     "name": "stderr",
     "output_type": "stream",
     "text": [
      "[nltk_data] Downloading package wordnet to /home/daichi/nltk_data...\n"
     ]
    },
    {
     "data": {
      "text/plain": [
       "True"
      ]
     },
     "execution_count": 3,
     "metadata": {},
     "output_type": "execute_result"
    }
   ],
   "source": [
    "import nltk\n",
    "nltk.download('wordnet')"
   ]
  },
  {
   "cell_type": "code",
   "execution_count": 5,
   "metadata": {},
   "outputs": [
    {
     "name": "stdout",
     "output_type": "stream",
     "text": [
      "I constitute a student\n"
     ]
    }
   ],
   "source": [
    "from nltk.corpus import wordnet\n",
    "import random\n",
    "\n",
    "def synonym_replacement(sentence, n):\n",
    "    words = sentence.split()\n",
    "    new_words = words.copy()\n",
    "    random_word_list = list(set([word for word in words if wordnet.synsets(word)]))\n",
    "    random.shuffle(random_word_list)\n",
    "    num_replaced = 0\n",
    "    for random_word in random_word_list:\n",
    "        synonyms = wordnet.synsets(random_word)\n",
    "        if synonyms:\n",
    "            synonym = random.choice(synonyms).lemmas()[0].name()\n",
    "            new_words = [synonym if word == random_word else word for word in new_words]\n",
    "            num_replaced += 1\n",
    "        if num_replaced >= n:\n",
    "            break\n",
    "    return ' '.join(new_words)\n",
    "\n",
    "print(synonym_replacement(\"I am a student\", 1))"
   ]
  },
  {
   "cell_type": "code",
   "execution_count": 10,
   "metadata": {},
   "outputs": [
    {
     "name": "stdout",
     "output_type": "stream",
     "text": [
      "The quick embrown fox jumps over the faineant dog\n"
     ]
    }
   ],
   "source": [
    "import random\n",
    "from nltk.corpus import wordnet\n",
    "\n",
    "def synonym_replacement(sentence, probability=0.1):\n",
    "    words = sentence.split()\n",
    "    new_words = words.copy()\n",
    "    for i, word in enumerate(words):\n",
    "        if random.random() < probability:  # probabilityの確率でシノニム置換を実行\n",
    "            synonyms = wordnet.synsets(word)\n",
    "            if synonyms:\n",
    "                synonym = random.choice(synonyms).lemmas()[0].name()\n",
    "                new_words[i] = synonym\n",
    "    return ' '.join(new_words)\n",
    "\n",
    "# 使用例\n",
    "sentence = \"The quick brown fox jumps over the lazy dog\"\n",
    "augmented_sentence = synonym_replacement(sentence, probability=0.3)\n",
    "print(augmented_sentence)\n"
   ]
  },
  {
   "cell_type": "code",
   "execution_count": 1,
   "metadata": {},
   "outputs": [
    {
     "name": "stdout",
     "output_type": "stream",
     "text": [
      "/home/daichi/dlb/dl_lecture_competition_pub/output/2024-07-11/17-06-30/models\n"
     ]
    }
   ],
   "source": [
    "model_path = \"/home/daichi/dlb/dl_lecture_competition_pub/output/2024-07-11/17-06-30/models/model_5.pth\"\n",
    "save_path = \"/\".join(model_path.split(\"/\")[:-1])\n",
    "print(save_path)"
   ]
  },
  {
   "cell_type": "code",
   "execution_count": 13,
   "metadata": {},
   "outputs": [
    {
     "name": "stdout",
     "output_type": "stream",
     "text": [
      "['/home/daichi/dlb/dl_lecture_competition_pub/output/2024-07-12/09-55-38/models/model_5.pth', '/home/daichi/dlb/dl_lecture_competition_pub/output/2024-07-12/09-55-38/models/model_10.pth', '/home/daichi/dlb/dl_lecture_competition_pub/output/2024-07-12/09-55-38/models/model_15.pth', '/home/daichi/dlb/dl_lecture_competition_pub/output/2024-07-12/09-55-38/models/model_20.pth', '/home/daichi/dlb/dl_lecture_competition_pub/output/2024-07-12/09-55-38/models/model_25.pth', '/home/daichi/dlb/dl_lecture_competition_pub/output/2024-07-12/09-55-38/models/model_30.pth', '/home/daichi/dlb/dl_lecture_competition_pub/output/2024-07-12/09-55-38/models/model_35.pth', '/home/daichi/dlb/dl_lecture_competition_pub/output/2024-07-12/09-55-38/models/model_40.pth', '/home/daichi/dlb/dl_lecture_competition_pub/output/2024-07-12/09-55-38/models/model_45.pth', '/home/daichi/dlb/dl_lecture_competition_pub/output/2024-07-12/09-55-38/models/model_50.pth', '/home/daichi/dlb/dl_lecture_competition_pub/output/2024-07-12/09-55-38/models/model_55.pth', '/home/daichi/dlb/dl_lecture_competition_pub/output/2024-07-12/09-55-38/models/model_60.pth', '/home/daichi/dlb/dl_lecture_competition_pub/output/2024-07-12/09-55-38/models/model_65.pth']\n",
      "/home/daichi/dlb/dl_lecture_competition_pub/output/2024-07-12/09-55-38/models\n",
      "submission_5.npy\n"
     ]
    }
   ],
   "source": [
    "from glob import glob\n",
    "import os\n",
    "\n",
    "model_dir = \"/home/daichi/dlb/dl_lecture_competition_pub/output/2024-07-12/09-55-38/models\"\n",
    "model_paths = glob(os.path.join(model_dir, \"*.pth\"))\n",
    "print(model_paths)\n",
    "save_path = \"/\".join(model_paths[0].split(\"/\")[:-1])\n",
    "print(save_path)\n",
    "csv_name = f'submission_{model_paths[0].split(\"_\")[-1].split(\".\")[0]}.npy'\n",
    "print(csv_name)"
   ]
  },
  {
   "cell_type": "code",
   "execution_count": 9,
   "metadata": {},
   "outputs": [
    {
     "data": {
      "text/plain": [
       "'5'"
      ]
     },
     "execution_count": 9,
     "metadata": {},
     "output_type": "execute_result"
    }
   ],
   "source": [
    "model_paths[0].split('/')[-1].split('.')[0].split(\"_\")[-1]"
   ]
  },
  {
   "cell_type": "code",
   "execution_count": 12,
   "metadata": {},
   "outputs": [
    {
     "data": {
      "text/plain": [
       "'5'"
      ]
     },
     "execution_count": 12,
     "metadata": {},
     "output_type": "execute_result"
    }
   ],
   "source": [
    "model_paths[0].split(\"_\")[-1].split(\".\")[0]"
   ]
  },
  {
   "cell_type": "code",
   "execution_count": 15,
   "metadata": {},
   "outputs": [
    {
     "name": "stdout",
     "output_type": "stream",
     "text": [
      "['unanswerable' 'unanswerable' 'unanswerable' ... 'unanswerable'\n",
      " 'unanswerable' 'unanswerable']\n"
     ]
    }
   ],
   "source": [
    "import numpy as np\n",
    "\n",
    "npy_path = \"/home/daichi/dlb/dl_lecture_competition_pub/output/2024-07-12/09-55-38/models/submission_5.npy\"\n",
    "# 読み込み\n",
    "submission = np.load(npy_path)\n",
    "print(submission)"
   ]
  },
  {
   "cell_type": "code",
   "execution_count": null,
   "metadata": {},
   "outputs": [],
   "source": []
  }
 ],
 "metadata": {
  "kernelspec": {
   "display_name": "dlbasics",
   "language": "python",
   "name": "python3"
  },
  "language_info": {
   "codemirror_mode": {
    "name": "ipython",
    "version": 3
   },
   "file_extension": ".py",
   "mimetype": "text/x-python",
   "name": "python",
   "nbconvert_exporter": "python",
   "pygments_lexer": "ipython3",
   "version": "3.10.14"
  }
 },
 "nbformat": 4,
 "nbformat_minor": 2
}
